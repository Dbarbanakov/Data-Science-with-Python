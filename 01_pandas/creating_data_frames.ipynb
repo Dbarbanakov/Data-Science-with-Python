{
 "cells": [
  {
   "cell_type": "code",
   "execution_count": 60,
   "id": "d13c5f48-5397-48cd-b73f-3165b8e7ecfd",
   "metadata": {},
   "outputs": [],
   "source": [
    "import numpy as np\n",
    "import pandas as pd"
   ]
  },
  {
   "cell_type": "markdown",
   "id": "12f07603-91dc-4dee-9cb5-28e9f3e9303d",
   "metadata": {},
   "source": [
    "# Creation of Data Frames"
   ]
  },
  {
   "cell_type": "markdown",
   "id": "76fa6486-8897-4038-9e41-c02f2ed196a1",
   "metadata": {},
   "source": [
    "### Array -> DF"
   ]
  },
  {
   "cell_type": "code",
   "execution_count": 63,
   "id": "ad4b2651-6dad-4009-8673-0738d0f79b44",
   "metadata": {},
   "outputs": [],
   "source": [
    "# creating an np array\n",
    "data = np.array([['Banana',2], ['Grapes',10], ['Avocadoes',6], ['Peaches',0]])"
   ]
  },
  {
   "cell_type": "code",
   "execution_count": 64,
   "id": "99386b2f-f521-4fd8-b68b-10ec975efc13",
   "metadata": {},
   "outputs": [],
   "source": [
    "# creating a data frame\n",
    "df = pd.DataFrame(data, index=['basket_1', 'basket_2', 'basket_3', 'basket_4'], columns=['fruit', 'count'])"
   ]
  },
  {
   "cell_type": "code",
   "execution_count": 65,
   "id": "2106687a-e24a-45fc-b2e5-8da1b2ebbfad",
   "metadata": {},
   "outputs": [
    {
     "data": {
      "text/html": [
       "<div>\n",
       "<style scoped>\n",
       "    .dataframe tbody tr th:only-of-type {\n",
       "        vertical-align: middle;\n",
       "    }\n",
       "\n",
       "    .dataframe tbody tr th {\n",
       "        vertical-align: top;\n",
       "    }\n",
       "\n",
       "    .dataframe thead th {\n",
       "        text-align: right;\n",
       "    }\n",
       "</style>\n",
       "<table border=\"1\" class=\"dataframe\">\n",
       "  <thead>\n",
       "    <tr style=\"text-align: right;\">\n",
       "      <th></th>\n",
       "      <th>fruit</th>\n",
       "      <th>count</th>\n",
       "    </tr>\n",
       "  </thead>\n",
       "  <tbody>\n",
       "    <tr>\n",
       "      <th>basket_1</th>\n",
       "      <td>Banana</td>\n",
       "      <td>2</td>\n",
       "    </tr>\n",
       "    <tr>\n",
       "      <th>basket_2</th>\n",
       "      <td>Grapes</td>\n",
       "      <td>10</td>\n",
       "    </tr>\n",
       "    <tr>\n",
       "      <th>basket_3</th>\n",
       "      <td>Avocadoes</td>\n",
       "      <td>6</td>\n",
       "    </tr>\n",
       "    <tr>\n",
       "      <th>basket_4</th>\n",
       "      <td>Peaches</td>\n",
       "      <td>0</td>\n",
       "    </tr>\n",
       "  </tbody>\n",
       "</table>\n",
       "</div>"
      ],
      "text/plain": [
       "              fruit count\n",
       "basket_1     Banana     2\n",
       "basket_2     Grapes    10\n",
       "basket_3  Avocadoes     6\n",
       "basket_4    Peaches     0"
      ]
     },
     "execution_count": 65,
     "metadata": {},
     "output_type": "execute_result"
    }
   ],
   "source": [
    "# displaying the data frame\n",
    "df"
   ]
  },
  {
   "cell_type": "code",
   "execution_count": 66,
   "id": "096487c9-4eb5-4ace-b294-7829e0c85b17",
   "metadata": {},
   "outputs": [],
   "source": [
    "# creating an array\n",
    "data = [['Banana',2], ['Grapes',10], ['Avocadoes',6], ['Peaches',0]]"
   ]
  },
  {
   "cell_type": "code",
   "execution_count": 67,
   "id": "e847ac92-2560-47c7-b105-c20f568746a9",
   "metadata": {},
   "outputs": [],
   "source": [
    "# creating a data frame\n",
    "df = pd.DataFrame(data, index=['basket_1', 'basket_2', 'basket_3', 'basket_4'], columns=['fruit', 'count'])"
   ]
  },
  {
   "cell_type": "code",
   "execution_count": 68,
   "id": "28715dae-e96c-400f-b8ae-651585070d6e",
   "metadata": {},
   "outputs": [
    {
     "data": {
      "text/html": [
       "<div>\n",
       "<style scoped>\n",
       "    .dataframe tbody tr th:only-of-type {\n",
       "        vertical-align: middle;\n",
       "    }\n",
       "\n",
       "    .dataframe tbody tr th {\n",
       "        vertical-align: top;\n",
       "    }\n",
       "\n",
       "    .dataframe thead th {\n",
       "        text-align: right;\n",
       "    }\n",
       "</style>\n",
       "<table border=\"1\" class=\"dataframe\">\n",
       "  <thead>\n",
       "    <tr style=\"text-align: right;\">\n",
       "      <th></th>\n",
       "      <th>fruit</th>\n",
       "      <th>count</th>\n",
       "    </tr>\n",
       "  </thead>\n",
       "  <tbody>\n",
       "    <tr>\n",
       "      <th>basket_1</th>\n",
       "      <td>Banana</td>\n",
       "      <td>2</td>\n",
       "    </tr>\n",
       "    <tr>\n",
       "      <th>basket_2</th>\n",
       "      <td>Grapes</td>\n",
       "      <td>10</td>\n",
       "    </tr>\n",
       "    <tr>\n",
       "      <th>basket_3</th>\n",
       "      <td>Avocadoes</td>\n",
       "      <td>6</td>\n",
       "    </tr>\n",
       "    <tr>\n",
       "      <th>basket_4</th>\n",
       "      <td>Peaches</td>\n",
       "      <td>0</td>\n",
       "    </tr>\n",
       "  </tbody>\n",
       "</table>\n",
       "</div>"
      ],
      "text/plain": [
       "              fruit  count\n",
       "basket_1     Banana      2\n",
       "basket_2     Grapes     10\n",
       "basket_3  Avocadoes      6\n",
       "basket_4    Peaches      0"
      ]
     },
     "execution_count": 68,
     "metadata": {},
     "output_type": "execute_result"
    }
   ],
   "source": [
    "# displaying the data frame\n",
    "df"
   ]
  },
  {
   "cell_type": "markdown",
   "id": "e3b7082f-72ab-4829-8cce-79781ec8c31b",
   "metadata": {},
   "source": [
    "### Dictionary -> DF"
   ]
  },
  {
   "cell_type": "code",
   "execution_count": 78,
   "id": "0d42fde6-f557-42e6-8acf-a299dbf476f1",
   "metadata": {},
   "outputs": [],
   "source": [
    "# lists used for key,value pairs\n",
    "seasons = ['Spring', 'Summer', 'Autumn', 'Winter']\n",
    "veggies = ['Lettuce', 'Tomatoes', 'Cabbage', 'Carrots']"
   ]
  },
  {
   "cell_type": "code",
   "execution_count": 80,
   "id": "536dffc1-ab5e-436e-a706-4c6611678c54",
   "metadata": {},
   "outputs": [],
   "source": [
    "# storing lists within a dictionary\n",
    "salad = {'Seasons': seasons, 'Veggies': veggies}"
   ]
  },
  {
   "cell_type": "code",
   "execution_count": 90,
   "id": "a1d46d42-87ce-4989-8c3f-84c0808ae50e",
   "metadata": {},
   "outputs": [],
   "source": [
    "# creating a data frame\n",
    "df = pd.DataFrame(salad)\n",
    "#df = pd.DataFrame.from_dict(salad)"
   ]
  },
  {
   "cell_type": "code",
   "execution_count": 92,
   "id": "e28d67e2-fe51-4ed3-b2e6-9794409dffea",
   "metadata": {},
   "outputs": [
    {
     "data": {
      "text/html": [
       "<div>\n",
       "<style scoped>\n",
       "    .dataframe tbody tr th:only-of-type {\n",
       "        vertical-align: middle;\n",
       "    }\n",
       "\n",
       "    .dataframe tbody tr th {\n",
       "        vertical-align: top;\n",
       "    }\n",
       "\n",
       "    .dataframe thead th {\n",
       "        text-align: right;\n",
       "    }\n",
       "</style>\n",
       "<table border=\"1\" class=\"dataframe\">\n",
       "  <thead>\n",
       "    <tr style=\"text-align: right;\">\n",
       "      <th></th>\n",
       "      <th>Seasons</th>\n",
       "      <th>Veggies</th>\n",
       "    </tr>\n",
       "  </thead>\n",
       "  <tbody>\n",
       "    <tr>\n",
       "      <th>0</th>\n",
       "      <td>Spring</td>\n",
       "      <td>Lettuce</td>\n",
       "    </tr>\n",
       "    <tr>\n",
       "      <th>1</th>\n",
       "      <td>Summer</td>\n",
       "      <td>Tomatoes</td>\n",
       "    </tr>\n",
       "    <tr>\n",
       "      <th>2</th>\n",
       "      <td>Autumn</td>\n",
       "      <td>Cabbage</td>\n",
       "    </tr>\n",
       "    <tr>\n",
       "      <th>3</th>\n",
       "      <td>Winter</td>\n",
       "      <td>Carrots</td>\n",
       "    </tr>\n",
       "  </tbody>\n",
       "</table>\n",
       "</div>"
      ],
      "text/plain": [
       "  Seasons   Veggies\n",
       "0  Spring   Lettuce\n",
       "1  Summer  Tomatoes\n",
       "2  Autumn   Cabbage\n",
       "3  Winter   Carrots"
      ]
     },
     "execution_count": 92,
     "metadata": {},
     "output_type": "execute_result"
    }
   ],
   "source": [
    "df"
   ]
  },
  {
   "cell_type": "markdown",
   "id": "09c9f809-56af-49fb-94f9-e8f62077be61",
   "metadata": {},
   "source": [
    "### csv -> DF"
   ]
  },
  {
   "cell_type": "code",
   "execution_count": 95,
   "id": "2b1d6fce-77a3-4d83-bf1a-17de00dfffb1",
   "metadata": {},
   "outputs": [],
   "source": [
    "# reading the csv\n",
    "df_bestsellers = pd.read_csv('bestsellers with categories.csv')"
   ]
  },
  {
   "cell_type": "code",
   "execution_count": null,
   "id": "2cd64e44-a973-4f7f-92b0-ad4a6080c2e5",
   "metadata": {},
   "outputs": [],
   "source": []
  }
 ],
 "metadata": {
  "kernelspec": {
   "display_name": "Python 3 (ipykernel)",
   "language": "python",
   "name": "python3"
  },
  "language_info": {
   "codemirror_mode": {
    "name": "ipython",
    "version": 3
   },
   "file_extension": ".py",
   "mimetype": "text/x-python",
   "name": "python",
   "nbconvert_exporter": "python",
   "pygments_lexer": "ipython3",
   "version": "3.12.2"
  }
 },
 "nbformat": 4,
 "nbformat_minor": 5
}
